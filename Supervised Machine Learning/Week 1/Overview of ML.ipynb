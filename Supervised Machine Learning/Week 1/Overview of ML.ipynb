{
 "cells": [
  {
   "cell_type": "markdown",
   "id": "2d2331e7",
   "metadata": {},
   "source": [
    "# Supervised Machine Learning\n",
    "or more commonly, supervised learning, refers to algorithms that learn $x$ to $y$ or input to output mappings. The key characteristic of supervised learning is that you give your learning algorithm examples to learn from. That includes the right answers, whereby right answer, I mean, the correct label $y$ for a given input $x$, and is by seeing correct pairs of input $x$ and desired output label $y$that the learning algorithm eventually learns to take just the input alone without the output label and gives a reasonably accurate prediction or guess of the output.\n",
    "\n",
    "## 2 different types of Supervised ML\n",
    "- Regression\n",
    "- Classification."
   ]
  },
  {
   "cell_type": "markdown",
   "id": "3f815deb",
   "metadata": {},
   "source": [
    "# Unsupervise Machine Learning\n",
    "we call it unsupervised because we're not trying to supervise the algorithm. To give some quote right answer for every input, instead, we asked the our room to figure out all by yourself what's interesting. Or what patterns or structures that might be in this data, with this particular data set. An unsupervised learning algorithm, might decide that the data can be assigned to two different groups or two different clusters. And so it might decide, that there's one cluster what group over here, and there's another cluster or group over here. \n",
    "\\\n",
    "A clustering algorithm which is a type of unsupervised learning algorithm, takes data without labels and tries to automatically group them into clusters. And so maybe the next time you see or think of a panda, maybe you think of clustering as well. And besides clustering, there are other types of unsupervised learning as well. \n",
    "\\\n",
    "In unsupervised learning, the data comes only with inputs x but not output labels y, and the algorithm has to find some structure or some pattern or something interesting in the data. \n",
    "\\\n",
    "Other types of Unsupervised ML:  One is called anomaly detection, which is used to detect unusual events. This turns out to be really important for fraud detection in the financial system, where unusual events, unusual transactions could be signs of fraud and for many other applications. You also learn about dimensionality reduction. This lets you take a big data-set and almost magically compress it to a much smaller data-set while losing as little information as possible. \n",
    "\n",
    "## 3 different types of Unsupervised ML\n",
    "\n",
    "- Clustering: Group similar data points together\n",
    "- Anomaly Detection: Find unusual data points.\n",
    "- Dimensionality Reduction: Compress data using fewer numbers.\n"
   ]
  },
  {
   "cell_type": "code",
   "execution_count": null,
   "id": "790722dd",
   "metadata": {},
   "outputs": [],
   "source": []
  }
 ],
 "metadata": {
  "kernelspec": {
   "display_name": "Python 3 (ipykernel)",
   "language": "python",
   "name": "python3"
  },
  "language_info": {
   "codemirror_mode": {
    "name": "ipython",
    "version": 3
   },
   "file_extension": ".py",
   "mimetype": "text/x-python",
   "name": "python",
   "nbconvert_exporter": "python",
   "pygments_lexer": "ipython3",
   "version": "3.9.12"
  }
 },
 "nbformat": 4,
 "nbformat_minor": 5
}
