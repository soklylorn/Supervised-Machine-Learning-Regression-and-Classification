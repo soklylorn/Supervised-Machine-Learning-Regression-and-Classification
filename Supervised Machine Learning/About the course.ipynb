{
 "cells": [
  {
   "cell_type": "markdown",
   "id": "977d2ebc",
   "metadata": {},
   "source": [
    "## What you'll learn\n",
    "1. Build machine learning models in Python using popular machine learning libraries NumPy & scikit-learn\n",
    "2. Build & train supervised machine learning models for prediction & binary classification tasks, including linear regression & logistic regression\n"
   ]
  },
  {
   "cell_type": "markdown",
   "id": "e370f66a",
   "metadata": {},
   "source": [
    "## Skills you'll gain\n",
    "- Linear Regression\n",
    "- Regularization to Avoid Overfitting\n",
    "- Logistic Regression for Classification\n",
    "- Gradient Descent\n",
    "- Supervised Learning"
   ]
  },
  {
   "cell_type": "code",
   "execution_count": null,
   "id": "89be113c",
   "metadata": {},
   "outputs": [],
   "source": []
  }
 ],
 "metadata": {
  "kernelspec": {
   "display_name": "Python 3 (ipykernel)",
   "language": "python",
   "name": "python3"
  },
  "language_info": {
   "codemirror_mode": {
    "name": "ipython",
    "version": 3
   },
   "file_extension": ".py",
   "mimetype": "text/x-python",
   "name": "python",
   "nbconvert_exporter": "python",
   "pygments_lexer": "ipython3",
   "version": "3.9.12"
  }
 },
 "nbformat": 4,
 "nbformat_minor": 5
}
